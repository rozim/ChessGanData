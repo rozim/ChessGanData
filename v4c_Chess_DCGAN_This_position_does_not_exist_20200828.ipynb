{
  "nbformat": 4,
  "nbformat_minor": 0,
  "metadata": {
    "colab": {
      "name": "v4c - Chess DCGAN - This position does not exist - 20200828 ",
      "provenance": [],
      "collapsed_sections": [],
      "authorship_tag": "ABX9TyOy8/bJscK01durKiYlgXQD",
      "include_colab_link": true
    },
    "kernelspec": {
      "name": "python3",
      "display_name": "Python 3"
    },
    "accelerator": "GPU"
  },
  "cells": [
    {
      "cell_type": "markdown",
      "metadata": {
        "id": "view-in-github",
        "colab_type": "text"
      },
      "source": [
        "<a href=\"https://colab.research.google.com/github/rozim/ChessGanData/blob/master/v4c_Chess_DCGAN_This_position_does_not_exist_20200828.ipynb\" target=\"_parent\"><img src=\"https://colab.research.google.com/assets/colab-badge.svg\" alt=\"Open In Colab\"/></a>"
      ]
    },
    {
      "cell_type": "markdown",
      "metadata": {
        "id": "k803_G-xW3UV",
        "colab_type": "text"
      },
      "source": [
        "https://www.tensorflow.org/tutorials/generative/dcgan\n"
      ]
    },
    {
      "cell_type": "markdown",
      "metadata": {
        "id": "JXbO2k0Ero8M",
        "colab_type": "text"
      },
      "source": [
        "tbd: leaky relu alpha=0.2\n",
        "\n",
        "tbd: init range of image -1..+1\n",
        "\n",
        "tbd: weight init sd 0.02\n",
        "\n",
        "tbd: 2015: \"Adam learning rate of 0.0002 and a momentum (beta1) of 0.5\"\n",
        "\n",
        "20200828 - v2: works sort of, has mode collapse, but the output is fuzzy boards\n",
        "\n",
        "20200828 - v3: soft labels, 0.1 / 0.9\n",
        "\n",
        "20200828 - v4: spreadout regularizer\n",
        "\n"
      ]
    },
    {
      "cell_type": "code",
      "metadata": {
        "id": "IM29MRLOVEJK",
        "colab_type": "code",
        "colab": {
          "base_uri": "https://localhost:8080/",
          "height": 85
        },
        "outputId": "045d1834-b259-4b3c-d38c-14e7d3f701c1"
      },
      "source": [
        "!pip3 install -q imageio\n",
        "!pip3 install -q python-chess\n",
        "!pip3 install -q CairoSVG==2.1.3\n",
        "!pip3 install -q \"tqdm>=4.36.1\"\n"
      ],
      "execution_count": 1,
      "outputs": [
        {
          "output_type": "stream",
          "text": [
            "\u001b[?25l\r\u001b[K     |███▎                            | 10kB 33.3MB/s eta 0:00:01\r\u001b[K     |██████▌                         | 20kB 2.8MB/s eta 0:00:01\r\u001b[K     |█████████▊                      | 30kB 3.8MB/s eta 0:00:01\r\u001b[K     |█████████████                   | 40kB 4.2MB/s eta 0:00:01\r\u001b[K     |████████████████▏               | 51kB 3.4MB/s eta 0:00:01\r\u001b[K     |███████████████████▍            | 61kB 3.7MB/s eta 0:00:01\r\u001b[K     |██████████████████████▊         | 71kB 4.1MB/s eta 0:00:01\r\u001b[K     |██████████████████████████      | 81kB 4.4MB/s eta 0:00:01\r\u001b[K     |█████████████████████████████▏  | 92kB 4.7MB/s eta 0:00:01\r\u001b[K     |████████████████████████████████| 102kB 3.7MB/s \n",
            "\u001b[K     |████████████████████████████████| 71kB 8.8MB/s \n",
            "\u001b[K     |████████████████████████████████| 71kB 7.3MB/s \n",
            "\u001b[?25h  Building wheel for cairocffi (setup.py) ... \u001b[?25l\u001b[?25hdone\n"
          ],
          "name": "stdout"
        }
      ]
    },
    {
      "cell_type": "code",
      "metadata": {
        "id": "tXSprGyvZY83",
        "colab_type": "code",
        "colab": {
          "base_uri": "https://localhost:8080/",
          "height": 833
        },
        "outputId": "34e8e59c-0e00-4f29-fde8-46671165e147"
      },
      "source": [
        "! if [ ! -e twic1346.pgn ]; then (wget  https://theweekinchess.com/zips/twic1346g.zip && unzip twic*.zip && rm twic*.zip && echo PGN downloaded )  fi\n",
        "! if [ ! -e twic1345.pgn ]; then (wget  https://theweekinchess.com/zips/twic1345g.zip && unzip twic*.zip && rm twic*.zip && echo PGN downloaded )  fi\n",
        "! if [ ! -e twic1344.pgn ]; then (wget  https://theweekinchess.com/zips/twic1344g.zip && unzip twic*.zip && rm twic*.zip && echo PGN downloaded )  fi\n",
        "\n",
        "!cat twic*.pgn > all.pgn\n",
        "\n",
        "! test -d ChessGanData || git clone https://github.com/rozim/ChessGanData.git"
      ],
      "execution_count": 2,
      "outputs": [
        {
          "output_type": "stream",
          "text": [
            "--2020-08-29 19:22:15--  https://theweekinchess.com/zips/twic1346g.zip\n",
            "Resolving theweekinchess.com (theweekinchess.com)... 50.87.227.133\n",
            "Connecting to theweekinchess.com (theweekinchess.com)|50.87.227.133|:443... connected.\n",
            "HTTP request sent, awaiting response... 200 OK\n",
            "Length: 1406588 (1.3M) [application/zip]\n",
            "Saving to: ‘twic1346g.zip’\n",
            "\n",
            "twic1346g.zip       100%[===================>]   1.34M  5.38MB/s    in 0.2s    \n",
            "\n",
            "2020-08-29 19:22:15 (5.38 MB/s) - ‘twic1346g.zip’ saved [1406588/1406588]\n",
            "\n",
            "Archive:  twic1346g.zip\n",
            "  inflating: twic1346.pgn            \n",
            "PGN downloaded\n",
            "--2020-08-29 19:22:16--  https://theweekinchess.com/zips/twic1345g.zip\n",
            "Resolving theweekinchess.com (theweekinchess.com)... 50.87.227.133\n",
            "Connecting to theweekinchess.com (theweekinchess.com)|50.87.227.133|:443... connected.\n",
            "HTTP request sent, awaiting response... 200 OK\n",
            "Length: 1587507 (1.5M) [application/zip]\n",
            "Saving to: ‘twic1345g.zip’\n",
            "\n",
            "twic1345g.zip       100%[===================>]   1.51M  7.26MB/s    in 0.2s    \n",
            "\n",
            "2020-08-29 19:22:16 (7.26 MB/s) - ‘twic1345g.zip’ saved [1587507/1587507]\n",
            "\n",
            "Archive:  twic1345g.zip\n",
            "  inflating: twic1345.pgn            \n",
            "PGN downloaded\n",
            "--2020-08-29 19:22:16--  https://theweekinchess.com/zips/twic1344g.zip\n",
            "Resolving theweekinchess.com (theweekinchess.com)... 50.87.227.133\n",
            "Connecting to theweekinchess.com (theweekinchess.com)|50.87.227.133|:443... connected.\n",
            "HTTP request sent, awaiting response... 200 OK\n",
            "Length: 2129254 (2.0M) [application/zip]\n",
            "Saving to: ‘twic1344g.zip’\n",
            "\n",
            "twic1344g.zip       100%[===================>]   2.03M  4.80MB/s    in 0.4s    \n",
            "\n",
            "2020-08-29 19:22:17 (4.80 MB/s) - ‘twic1344g.zip’ saved [2129254/2129254]\n",
            "\n",
            "Archive:  twic1344g.zip\n",
            "  inflating: twic1344.pgn            \n",
            "PGN downloaded\n",
            "Cloning into 'ChessGanData'...\n",
            "remote: Enumerating objects: 126616, done.\u001b[K\n",
            "remote: Total 126616 (delta 0), reused 0 (delta 0), pack-reused 126616\u001b[K\n",
            "Receiving objects: 100% (126616/126616), 966.77 MiB | 38.61 MiB/s, done.\n",
            "Resolving deltas: 100% (4/4), done.\n",
            "Checking out files: 100% (141036/141036), done.\n"
          ],
          "name": "stdout"
        }
      ]
    },
    {
      "cell_type": "code",
      "metadata": {
        "id": "i7WQSCO_VLaL",
        "colab_type": "code",
        "colab": {
          "base_uri": "https://localhost:8080/",
          "height": 35
        },
        "outputId": "3be2603e-3ab2-47f1-a7b8-dabcc9118ef3"
      },
      "source": [
        "import tensorflow as tf\n",
        "\n",
        "import glob\n",
        "import imageio\n",
        "import matplotlib.pyplot as plt\n",
        "import numpy as np\n",
        "import os\n",
        "import PIL\n",
        "from tensorflow.keras import layers\n",
        "import time\n",
        "import chess\n",
        "import chess.svg\n",
        "import chess.pgn\n",
        "import cairosvg\n",
        "import IPython\n",
        "import random\n",
        "import io #  BytesIO\n",
        "import time\n",
        "import itertools\n",
        "import tqdm\n",
        "\n",
        "from IPython import display\n",
        "\n",
        "NUM_INPUT = None # set later\n",
        "NUM_BATCHES = None\n",
        "\n",
        "tf.__version__"
      ],
      "execution_count": 3,
      "outputs": [
        {
          "output_type": "execute_result",
          "data": {
            "application/vnd.google.colaboratory.intrinsic+json": {
              "type": "string"
            },
            "text/plain": [
              "'2.3.0'"
            ]
          },
          "metadata": {
            "tags": []
          },
          "execution_count": 3
        }
      ]
    },
    {
      "cell_type": "code",
      "metadata": {
        "id": "51kwhSwEvuYt",
        "colab_type": "code",
        "colab": {}
      },
      "source": [
        "EPOCHS = 100\n",
        "noise_dim = 100\n",
        "num_examples_to_generate = 16\n",
        "\n",
        "# We will reuse this seed overtime (so it's easier)\n",
        "# to visualize progress in the animated GIF)\n",
        "seed = tf.random.normal([num_examples_to_generate, noise_dim])\n",
        "\n",
        "BUFFER_SIZE = 60000\n",
        "BATCH_SIZE = 256\n",
        "\n",
        "checkpoint_dir = './training_checkpoints'\n",
        "checkpoint_prefix = os.path.join(checkpoint_dir, \"ckpt\")\n",
        "\n",
        "LABEL_SMOOTHING = True\n",
        "\n",
        "D_DROPOUT = 0.5\n",
        "D_BATCHNORM = False\n",
        "\n",
        "SPREADOUT = 0.9"
      ],
      "execution_count": 4,
      "outputs": []
    },
    {
      "cell_type": "code",
      "metadata": {
        "id": "U_tqJTi4VaYW",
        "colab_type": "code",
        "colab": {
          "base_uri": "https://localhost:8080/",
          "height": 51
        },
        "outputId": "03f2f3c4-8d1c-453a-e875-415281d6ed7d"
      },
      "source": [
        "(train_images, train_labels), (_, _) = tf.keras.datasets.mnist.load_data()\n"
      ],
      "execution_count": 5,
      "outputs": [
        {
          "output_type": "stream",
          "text": [
            "Downloading data from https://storage.googleapis.com/tensorflow/tf-keras-datasets/mnist.npz\n",
            "11493376/11490434 [==============================] - 0s 0us/step\n"
          ],
          "name": "stdout"
        }
      ]
    },
    {
      "cell_type": "code",
      "metadata": {
        "id": "wnYRaRRmVdBz",
        "colab_type": "code",
        "colab": {
          "base_uri": "https://localhost:8080/",
          "height": 85
        },
        "outputId": "c1df52c5-1325-44a0-b07d-324c559fe2a6"
      },
      "source": [
        "print(type(train_images[0]))\n",
        "print(type(train_images))\n",
        "\n",
        "print(train_images[0].shape)\n",
        "print(train_images.shape)"
      ],
      "execution_count": 6,
      "outputs": [
        {
          "output_type": "stream",
          "text": [
            "<class 'numpy.ndarray'>\n",
            "<class 'numpy.ndarray'>\n",
            "(28, 28)\n",
            "(60000, 28, 28)\n"
          ],
          "name": "stdout"
        }
      ]
    },
    {
      "cell_type": "code",
      "metadata": {
        "id": "AGOVvBX2WNLJ",
        "colab_type": "code",
        "colab": {
          "base_uri": "https://localhost:8080/",
          "height": 434
        },
        "outputId": "c915f2ae-d5ca-4172-9bf0-a2c2f9f648e8"
      },
      "source": [
        "b = chess.Board()\n",
        "for _ in range(10):\n",
        "  legal = list(b.legal_moves)\n",
        "  if len(legal) == 0:\n",
        "    print('no legal moves!')\n",
        "    break\n",
        "  b.push(random.choice(legal))\n",
        "png = cairosvg.svg2png(bytestring=chess.svg.board(b))\n",
        "print(type(png))\n",
        "open('foo.png', 'wb').write(png)\n",
        "IPython.display.Image(data=png)"
      ],
      "execution_count": 7,
      "outputs": [
        {
          "output_type": "stream",
          "text": [
            "<class 'bytes'>\n"
          ],
          "name": "stdout"
        },
        {
          "output_type": "execute_result",
          "data": {
            "image/png": "[encoded data removed]",
            "text/plain": [
              "<IPython.core.display.Image object>"
            ]
          },
          "metadata": {
            "tags": []
          },
          "execution_count": 7
        }
      ]
    },
    {
      "cell_type": "code",
      "metadata": {
        "id": "rrEyBCDvdx2P",
        "colab_type": "code",
        "colab": {}
      },
      "source": [
        "def file_to_numpy(fn):\n",
        "  return np.array(PIL.Image.open(fn).resize((128, 128)))\n",
        "\n",
        "\n",
        "def file_to_gray_numpy(fn):\n",
        "  return np.array(PIL.Image.open(fn).convert('L').resize((128, 128)))\n",
        "\n",
        "\n",
        "def numpy_to_pil(ar):\n",
        "  return PIL.Image.fromarray(ar)\n",
        "\n",
        "\n",
        "def pil_to_bytes(img):\n",
        "  b = io.BytesIO()\n",
        "  img.save(b, format='png')\n",
        "  return b.getvalue()\n",
        "\n",
        "\n",
        "def numpy_to_bytes(ar):\n",
        "  return pil_to_bytes(numpy_to_pil(ar))\n",
        "\n",
        "\n",
        "def parse_games(fns):\n",
        "  return list(itertools.chain([parse_games1(fn) for fn in fns]))\n",
        " \n",
        "\n",
        "def parse_games1(fn):\n",
        "  pgn = open(fn, encoding = \"ISO-8859-1\")\n",
        "  while True:\n",
        "    g = chess.pgn.read_game(pgn)\n",
        "    if g is None:\n",
        "      break\n",
        "    yield g\n",
        "  del pgn\n",
        "\n",
        "\n",
        "def random_position(g):\n",
        "  b = g.board()\n",
        "  moves = list(g.main_line())\n",
        "  if len(moves) <= 1:\n",
        "      return None\n",
        "  pick = random.randint(0, len(moves) - 1)\n",
        "  for i, move in enumerate(moves):\n",
        "    if i == pick:\n",
        "      return b\n",
        "    b.push(move)  \n",
        "\n",
        "\n",
        "def board_to_png(b):\n",
        "  return cairosvg.svg2png(bytestring=chess.svg.board(b))\n",
        "\n",
        "\n",
        "def board_to_gray_numpy(b):\n",
        "  png = board_to_png(b)\n",
        "  buf = io.BytesIO()\n",
        "  buf.write(png)\n",
        "  #open('foo.png', 'wb').write(png)\n",
        "  #return file_to_gray_numpy('foo.png')\n",
        "  buf.seek(0)\n",
        "  return file_to_gray_numpy(buf)\n",
        "\n",
        "\n",
        "def pgn_to_unique_positions(fn, limit=None):\n",
        "  already = set()\n",
        "  row = 0\n",
        "  mod = 1\n",
        "  for i, g in enumerate(parse_games1(fn)):\n",
        "    row += 1\n",
        "    if row % mod == 0:\n",
        "      print('row: ', row)\n",
        "      mod *= 2\n",
        "      if mod > 512:\n",
        "        mod = 512\n",
        "    b = random_position(g)\n",
        "    if b is None:\n",
        "      continue\n",
        "    fen = b.fen()\n",
        "    simple = fen.split(' ')[0]\n",
        "    if simple in already:\n",
        "      continue\n",
        "    yield board_to_gray_numpy(b)\n",
        "    if limit is not None and i >= limit:\n",
        "      break\n",
        "\n",
        "\n",
        "def generate_training_data():\n",
        "  foo, mod = -1, 1\n",
        "  while True:\n",
        "    foo += 1\n",
        "    if foo % mod == 0:\n",
        "      print(foo)\n",
        "      mod *= 2\n",
        "      if mod > 4096:\n",
        "        mod = 4096\n",
        "    try:\n",
        "      yield np.load('ChessGanData/128_gray/{:06d}.npz'.format(foo))['arr_0']\n",
        "    except FileNotFoundError:\n",
        "      break\n",
        "      "
      ],
      "execution_count": 8,
      "outputs": []
    },
    {
      "cell_type": "code",
      "metadata": {
        "id": "_qZErwm4OJSc",
        "colab_type": "code",
        "colab": {}
      },
      "source": [
        "# https://arxiv.org/pdf/1708.06320.pdf\n",
        "def spreadout_regularizer(embeddings, normalized_input=False):\n",
        "  \"\"\"Provides regularization loss to encourage spread out embeddings.                                                                                                                        \n",
        "                                                                                                                                                                                             \n",
        "  Args:                                                                                                                                                                                      \n",
        "    embeddings: The embeddings to regularize.                                                                                                                                                \n",
        "    normalized_input: Whether the embeddings are already normalized. If `False`,                                                                                                             \n",
        "      this op will normalize the embeddings before applying the regularization                                                                                                               \n",
        "      loss. Setting to `True` will save some computation.                                                                                                                                    \n",
        "                                                                                                                                                                                             \n",
        "  Returns:                                                                                                                                                                                   \n",
        "    The computed spreadout regularization loss.                                                                                                                                              \n",
        "  \"\"\"\n",
        "  with tf.name_scope('spreadout_regularizer'):\n",
        "    if not normalized_input:\n",
        "      embeddings = tf.nn.l2_normalize(embeddings, axis=1)\n",
        "\n",
        "    num_embeddings = tf.shape(embeddings)[0]\n",
        "    gram_matrix = tf.matmul(embeddings, embeddings, transpose_b=True)\n",
        "    gram_matrix = tf.linalg.set_diag(gram_matrix, tf.zeros(num_embeddings))\n",
        "\n",
        "    loss = tf.reduce_sum(tf.square(gram_matrix))\n",
        "    loss /= tf.cast(num_embeddings * (num_embeddings - 1), tf.dtypes.float32)\n",
        "    return loss\n",
        "\n"
      ],
      "execution_count": 9,
      "outputs": []
    },
    {
      "cell_type": "code",
      "metadata": {
        "id": "-2NCioQfm1xJ",
        "colab_type": "code",
        "colab": {
          "base_uri": "https://localhost:8080/",
          "height": 425
        },
        "outputId": "f3d63dd8-7c75-48e1-d902-067f0d46f9f9"
      },
      "source": [
        "# Read training data\n",
        "t1 = time.time()\n",
        "train_images = np.stack(list(generate_training_data()))\n",
        "\n",
        "print(type(train_images))\n",
        "print(train_images.shape)\n",
        "print('elapsed: {:.1f}'.format(time.time() - t1))\n",
        "\n",
        "NUM_IMAGES = train_images.shape[0]\n",
        "NUM_BATCHES = NUM_IMAGES // BATCH_SIZE\n",
        "\n",
        "print(NUM_IMAGES, NUM_BATCHES)\n"
      ],
      "execution_count": 10,
      "outputs": [
        {
          "output_type": "stream",
          "text": [
            "0\n",
            "2\n",
            "4\n",
            "8\n",
            "16\n",
            "32\n",
            "64\n",
            "128\n",
            "256\n",
            "512\n",
            "1024\n",
            "2048\n",
            "4096\n",
            "8192\n",
            "12288\n",
            "16384\n",
            "20480\n",
            "24576\n",
            "28672\n",
            "32768\n",
            "<class 'numpy.ndarray'>\n",
            "(35255, 128, 128)\n",
            "elapsed: 19.9\n",
            "35255 137\n"
          ],
          "name": "stdout"
        }
      ]
    },
    {
      "cell_type": "code",
      "metadata": {
        "id": "L-gmvHDNpYXD",
        "colab_type": "code",
        "colab": {}
      },
      "source": [
        "# Prepare input pipeline\n",
        "\n",
        "train_images = train_images.reshape(train_images.shape[0], 128, 128, 1).astype('float32')\n",
        "train_images = (train_images - 127.5) / 127.5 # Normalize the images to [-1, 1]\n",
        "\n",
        "train_dataset = tf.data.Dataset.from_tensor_slices(train_images).shuffle(BUFFER_SIZE).batch(BATCH_SIZE)"
      ],
      "execution_count": 11,
      "outputs": []
    },
    {
      "cell_type": "code",
      "metadata": {
        "id": "WKyTerToplk2",
        "colab_type": "code",
        "colab": {}
      },
      "source": [
        "def make_generator_model():\n",
        "    # dcgan, from Ian's paper: https://arxiv.org/pdf/1701.00160.pdf\n",
        "    # 4, 4, 1024\n",
        "    # 8, 8, 512 (stride=2, kernel=5,5)\n",
        "    # 16, 16, 256 (=2)\n",
        "    # 32, 32, 128 (=2)\n",
        "    # 64, 64, 3 <-- final\n",
        "    #\n",
        "    model = tf.keras.Sequential()\n",
        "\n",
        "    model.add(layers.Dense(4 * 4 * 1024, use_bias=False, input_shape=(100,)))\n",
        "    model.add(layers.BatchNormalization())\n",
        "    model.add(layers.LeakyReLU())\n",
        "\n",
        "    model.add(layers.Reshape((4, 4, 1024)))\n",
        "\n",
        "    model.add(layers.Conv2DTranspose(512, (5, 5), strides=(2, 2), padding='same', use_bias=False))\n",
        "    assert model.output_shape == (None, 8, 8, 512)\n",
        "    model.add(layers.BatchNormalization())\n",
        "    model.add(layers.LeakyReLU())\n",
        "\n",
        "    model.add(layers.Conv2DTranspose(256, (5, 5), strides=(2, 2), padding='same', use_bias=False))\n",
        "    assert model.output_shape == (None, 16, 16, 256)\n",
        "    model.add(layers.BatchNormalization())\n",
        "    model.add(layers.LeakyReLU())\n",
        "\n",
        "    model.add(layers.Conv2DTranspose(128, (5, 5), strides=(2, 2), padding='same', use_bias=False))\n",
        "    assert model.output_shape == (None, 32, 32, 128)\n",
        "    model.add(layers.BatchNormalization())\n",
        "    model.add(layers.LeakyReLU())\n",
        "\n",
        "    model.add(layers.Conv2DTranspose(64, (5, 5), strides=(2, 2), padding='same', use_bias=False))\n",
        "    assert model.output_shape == (None, 64, 64, 64)\n",
        "    model.add(layers.BatchNormalization())\n",
        "    model.add(layers.LeakyReLU())\n",
        "\n",
        "    model.add(layers.Conv2DTranspose(1, (5, 5), strides=(2, 2), padding='same', use_bias=False, activation='tanh'))\n",
        "    assert model.output_shape == (None, 128, 128, 1), model.output_shape\n",
        "\n",
        "    return model"
      ],
      "execution_count": 12,
      "outputs": []
    },
    {
      "cell_type": "code",
      "metadata": {
        "id": "q2ZDlNANpnap",
        "colab_type": "code",
        "colab": {
          "base_uri": "https://localhost:8080/",
          "height": 1000
        },
        "outputId": "c8f09c77-f55a-4661-af8f-dedfd20db4e7"
      },
      "source": [
        "generator = make_generator_model()\n",
        "generator.summary()\n",
        "\n",
        "noise = tf.random.normal([1, 100])\n",
        "generated_image = generator(noise, training=False)\n",
        "\n",
        "print('gen image: ', generated_image.shape)\n",
        "print('gen image[...]: ', generated_image[0, :, :, 0].shape)\n",
        "plt.imshow(generated_image[0, :, :, 0], cmap='gray')\n",
        "\n"
      ],
      "execution_count": 13,
      "outputs": [
        {
          "output_type": "stream",
          "text": [
            "Model: \"sequential\"\n",
            "_________________________________________________________________\n",
            "Layer (type)                 Output Shape              Param #   \n",
            "=================================================================\n",
            "dense (Dense)                (None, 16384)             1638400   \n",
            "_________________________________________________________________\n",
            "batch_normalization (BatchNo (None, 16384)             65536     \n",
            "_________________________________________________________________\n",
            "leaky_re_lu (LeakyReLU)      (None, 16384)             0         \n",
            "_________________________________________________________________\n",
            "reshape (Reshape)            (None, 4, 4, 1024)        0         \n",
            "_________________________________________________________________\n",
            "conv2d_transpose (Conv2DTran (None, 8, 8, 512)         13107200  \n",
            "_________________________________________________________________\n",
            "batch_normalization_1 (Batch (None, 8, 8, 512)         2048      \n",
            "_________________________________________________________________\n",
            "leaky_re_lu_1 (LeakyReLU)    (None, 8, 8, 512)         0         \n",
            "_________________________________________________________________\n",
            "conv2d_transpose_1 (Conv2DTr (None, 16, 16, 256)       3276800   \n",
            "_________________________________________________________________\n",
            "batch_normalization_2 (Batch (None, 16, 16, 256)       1024      \n",
            "_________________________________________________________________\n",
            "leaky_re_lu_2 (LeakyReLU)    (None, 16, 16, 256)       0         \n",
            "_________________________________________________________________\n",
            "conv2d_transpose_2 (Conv2DTr (None, 32, 32, 128)       819200    \n",
            "_________________________________________________________________\n",
            "batch_normalization_3 (Batch (None, 32, 32, 128)       512       \n",
            "_________________________________________________________________\n",
            "leaky_re_lu_3 (LeakyReLU)    (None, 32, 32, 128)       0         \n",
            "_________________________________________________________________\n",
            "conv2d_transpose_3 (Conv2DTr (None, 64, 64, 64)        204800    \n",
            "_________________________________________________________________\n",
            "batch_normalization_4 (Batch (None, 64, 64, 64)        256       \n",
            "_________________________________________________________________\n",
            "leaky_re_lu_4 (LeakyReLU)    (None, 64, 64, 64)        0         \n",
            "_________________________________________________________________\n",
            "conv2d_transpose_4 (Conv2DTr (None, 128, 128, 1)       1600      \n",
            "=================================================================\n",
            "Total params: 19,117,376\n",
            "Trainable params: 19,082,688\n",
            "Non-trainable params: 34,688\n",
            "_________________________________________________________________\n",
            "gen image:  (1, 128, 128, 1)\n",
            "gen image[...]:  (128, 128)\n"
          ],
          "name": "stdout"
        },
        {
          "output_type": "execute_result",
          "data": {
            "text/plain": [
              "<matplotlib.image.AxesImage at 0x7f2f677d7518>"
            ]
          },
          "metadata": {
            "tags": []
          },
          "execution_count": 13
        },
        {
          "output_type": "display_data",
          "data": {
            "image/png": "[encoded data removed]",
            "text/plain": [
              "<Figure size 432x288 with 1 Axes>"
            ]
          },
          "metadata": {
            "tags": [],
            "needs_background": "light"
          }
        }
      ]
    },
    {
      "cell_type": "code",
      "metadata": {
        "id": "yUozwb7aq7GF",
        "colab_type": "code",
        "colab": {}
      },
      "source": [
        "def make_discriminator_model():\n",
        "    model = tf.keras.Sequential()\n",
        "    model.add(layers.Conv2D(64, (5, 5), strides=(2, 2), padding='same',\n",
        "                                     input_shape=[128, 128, 1]))\n",
        "    model.add(layers.LeakyReLU())\n",
        "    model.add(layers.Dropout(D_DROPOUT))\n",
        "    if D_BATCHNORM:\n",
        "      model.add(layers.BatchNormalization())\n",
        "\n",
        "    model.add(layers.Conv2D(128, (5, 5), strides=(2, 2), padding='same'))\n",
        "    model.add(layers.LeakyReLU())\n",
        "    model.add(layers.Dropout(D_DROPOUT))\n",
        "    if D_BATCHNORM:\n",
        "      model.add(layers.BatchNormalization())\n",
        "\n",
        "    model.add(layers.Flatten())\n",
        "    model.add(layers.Dense(1))\n",
        "\n",
        "    return model"
      ],
      "execution_count": 14,
      "outputs": []
    },
    {
      "cell_type": "code",
      "metadata": {
        "id": "fjaYZoOTq_HT",
        "colab_type": "code",
        "colab": {
          "base_uri": "https://localhost:8080/",
          "height": 442
        },
        "outputId": "52282891-4517-4205-9057-3fa3317119be"
      },
      "source": [
        "discriminator = make_discriminator_model()\n",
        "discriminator.summary()\n",
        "decision = discriminator(generated_image)\n",
        "print(decision)"
      ],
      "execution_count": 15,
      "outputs": [
        {
          "output_type": "stream",
          "text": [
            "Model: \"sequential_1\"\n",
            "_________________________________________________________________\n",
            "Layer (type)                 Output Shape              Param #   \n",
            "=================================================================\n",
            "conv2d (Conv2D)              (None, 64, 64, 64)        1664      \n",
            "_________________________________________________________________\n",
            "leaky_re_lu_5 (LeakyReLU)    (None, 64, 64, 64)        0         \n",
            "_________________________________________________________________\n",
            "dropout (Dropout)            (None, 64, 64, 64)        0         \n",
            "_________________________________________________________________\n",
            "conv2d_1 (Conv2D)            (None, 32, 32, 128)       204928    \n",
            "_________________________________________________________________\n",
            "leaky_re_lu_6 (LeakyReLU)    (None, 32, 32, 128)       0         \n",
            "_________________________________________________________________\n",
            "dropout_1 (Dropout)          (None, 32, 32, 128)       0         \n",
            "_________________________________________________________________\n",
            "flatten (Flatten)            (None, 131072)            0         \n",
            "_________________________________________________________________\n",
            "dense_1 (Dense)              (None, 1)                 131073    \n",
            "=================================================================\n",
            "Total params: 337,665\n",
            "Trainable params: 337,665\n",
            "Non-trainable params: 0\n",
            "_________________________________________________________________\n",
            "tf.Tensor([[6.855368e-05]], shape=(1, 1), dtype=float32)\n"
          ],
          "name": "stdout"
        }
      ]
    },
    {
      "cell_type": "code",
      "metadata": {
        "id": "8m91rW6IXVdi",
        "colab_type": "code",
        "colab": {}
      },
      "source": [
        "cross_entropy = tf.keras.losses.BinaryCrossentropy(from_logits=True)\n",
        "generator_optimizer = tf.keras.optimizers.Adam(1e-4)\n",
        "discriminator_optimizer = tf.keras.optimizers.Adam(1e-4)\n",
        "\n",
        "def discriminator_loss(real_output, fake_output):\n",
        "  if LABEL_SMOOTHING:\n",
        "    real_loss = cross_entropy(0.9 * tf.ones_like(real_output, dtype=tf.float32), real_output)\n",
        "    fake_loss = cross_entropy(0.1 * tf.ones_like(fake_output, dtype=tf.float32), fake_output)\n",
        "  else:\n",
        "    real_loss = cross_entropy(tf.ones_like(real_output), real_output)\n",
        "    fake_loss = cross_entropy(tf.zeros_like(fake_output), fake_output)\n",
        "\n",
        "  total_loss = real_loss + fake_loss\n",
        "  return total_loss\n",
        "\n",
        "def generator_loss(fake_output):\n",
        "    return cross_entropy(tf.ones_like(fake_output), fake_output)\n"
      ],
      "execution_count": 16,
      "outputs": []
    },
    {
      "cell_type": "code",
      "metadata": {
        "id": "aht76FPrXhNU",
        "colab_type": "code",
        "colab": {}
      },
      "source": [
        "\n",
        "checkpoint = tf.train.Checkpoint(generator_optimizer=generator_optimizer,\n",
        "                                 discriminator_optimizer=discriminator_optimizer,\n",
        "                                 generator=generator,\n",
        "                                 discriminator=discriminator)"
      ],
      "execution_count": 17,
      "outputs": []
    },
    {
      "cell_type": "code",
      "metadata": {
        "id": "NShtrMVDXqCs",
        "colab_type": "code",
        "colab": {}
      },
      "source": [
        "# Notice the use of `tf.function`\n",
        "# This annotation causes the function to be \"compiled\".\n",
        "@tf.function\n",
        "def train_step(images):\n",
        "    noise = tf.random.normal([BATCH_SIZE, noise_dim])\n",
        "\n",
        "    with tf.GradientTape() as gen_tape, tf.GradientTape() as disc_tape:\n",
        "      generated_images = generator(noise, training=True)\n",
        "      #flat_generated_images = tf.reshape(generated_images, shape=(128 * 128))\n",
        "      layer = layers.Flatten(data_format='channels_last')\n",
        "      flat_generated_images = layer.apply(generated_images)\n",
        "\n",
        "      real_output = discriminator(images, training=True)\n",
        "      fake_output = discriminator(generated_images, training=True)\n",
        "\n",
        "      spread_loss = spreadout_regularizer(flat_generated_images)\n",
        "      gen_loss = (1.0 - SPREADOUT) * generator_loss(fake_output) + (SPREADOUT * spread_loss)\n",
        "      disc_loss = discriminator_loss(real_output, fake_output)\n",
        "\n",
        "    gradients_of_generator = gen_tape.gradient(gen_loss, generator.trainable_variables)\n",
        "    gradients_of_discriminator = disc_tape.gradient(disc_loss, discriminator.trainable_variables)\n",
        "\n",
        "    generator_optimizer.apply_gradients(zip(gradients_of_generator, generator.trainable_variables))\n",
        "    discriminator_optimizer.apply_gradients(zip(gradients_of_discriminator, discriminator.trainable_variables))\n",
        "    return (gen_loss, disc_loss, spread_loss)"
      ],
      "execution_count": 18,
      "outputs": []
    },
    {
      "cell_type": "code",
      "metadata": {
        "id": "YDKaf2N6Xtvp",
        "colab_type": "code",
        "colab": {}
      },
      "source": [
        "def train(dataset, epochs):\n",
        "  g_loss_all, d_loss_all, s_loss_all = [], [], []\n",
        "  #pbar1 = tqdm.tqdm(epochs)\n",
        "  for epoch in range(epochs):\n",
        "    #pbar1.update()\n",
        "    start = time.time()\n",
        "    g_loss_avg = tf.keras.metrics.Mean()\n",
        "    d_loss_avg = tf.keras.metrics.Mean()\n",
        "    s_loss_avg = tf.keras.metrics.Mean()\n",
        "\n",
        "    #pbar2 = tqdm.tqdm(NUM_BATCHES)\n",
        "    for i, image_batch in enumerate(dataset):\n",
        "      #pbar2.update()\n",
        "      (g_loss, d_loss, s_loss) = train_step(image_batch)\n",
        "      g_loss_avg.update_state(g_loss)\n",
        "      d_loss_avg.update_state(d_loss)\n",
        "      s_loss_avg.update_state(s_loss)\n",
        "\n",
        "      if i % 25 == 0:\n",
        "        print('{}. {:.0f}% {:.1f}s : {:.4f} : {:.4f} : {:.4f}'.format(i, (100.0 *i) / NUM_BATCHES, time.time() - start, \n",
        "                                                             g_loss_avg.result(), \n",
        "                                                             d_loss_avg.result(),\n",
        "                                                             s_loss_avg.result()))\n",
        "    g_loss_all.append(g_loss_avg.result().numpy())\n",
        "    d_loss_all.append(d_loss_avg.result().numpy())\n",
        "    s_loss_all.append(s_loss_avg.result().numpy())\n",
        "\n",
        "    # Produce images for the GIF as we go\n",
        "    display.clear_output(wait=True)\n",
        "    generate_and_save_images(generator,\n",
        "                             epoch + 1,\n",
        "                             seed)\n",
        "\n",
        "    if (epoch + 1) % 25 == 0:\n",
        "      checkpoint.save(file_prefix = checkpoint_prefix)\n",
        "\n",
        "    print ('Time for epoch {}/{} is {} sec'.format(epoch + 1, EPOCHS, time.time()-start))\n",
        "\n",
        "  # Generate after the final epoch\n",
        "  display.clear_output(wait=True)\n",
        "  generate_and_save_images(generator,\n",
        "                           epochs,\n",
        "                           seed)\n",
        "  checkpoint.save(file_prefix = checkpoint_prefix)\n",
        "\n",
        "  return (g_loss_all, d_loss_all, s_loss_all)"
      ],
      "execution_count": 19,
      "outputs": []
    },
    {
      "cell_type": "code",
      "metadata": {
        "id": "dYUolC2GX4Sx",
        "colab_type": "code",
        "colab": {}
      },
      "source": [
        "def generate_and_save_images(model, epoch, test_input):\n",
        "  # Notice `training` is set to False.\n",
        "  # This is so all layers run in inference mode (batchnorm).\n",
        "  predictions = model(test_input, training=False)\n",
        "\n",
        "  fig = plt.figure(figsize=(12,12))\n",
        "\n",
        "  for i in range(predictions.shape[0]):\n",
        "      plt.subplot(4, 4, i+1)\n",
        "      plt.imshow(predictions[i, :, :, 0] * 127.5 + 127.5, cmap='gray')\n",
        "      plt.axis('off')\n",
        "\n",
        "  plt.savefig('image_at_epoch_{:04d}.png'.format(epoch))\n",
        "  plt.show()"
      ],
      "execution_count": 20,
      "outputs": []
    },
    {
      "cell_type": "code",
      "metadata": {
        "id": "BVIfqu5CX7d6",
        "colab_type": "code",
        "colab": {
          "base_uri": "https://localhost:8080/",
          "height": 139
        },
        "outputId": "81ea98d6-c600-408d-8e74-8ddd11074ba2"
      },
      "source": [
        "(g_loss_all, d_loss_all, s_loss_all) = train(train_dataset, EPOCHS)\n",
        "print('all done')"
      ],
      "execution_count": null,
      "outputs": [
        {
          "output_type": "stream",
          "text": [
            "WARNING:tensorflow:From <ipython-input-18-0a7c9ba1c4ee>:11: Layer.apply (from tensorflow.python.keras.engine.base_layer) is deprecated and will be removed in a future version.\n",
            "Instructions for updating:\n",
            "Please use `layer.__call__` method instead.\n",
            "0. 0% 7.8s : 0.2402 : 1.4103 : 0.1924\n",
            "25. 18% 30.6s : 0.1837 : 0.8410 : 0.0591\n",
            "50. 36% 54.0s : 0.2592 : 0.7682 : 0.1152\n"
          ],
          "name": "stdout"
        }
      ]
    },
    {
      "cell_type": "code",
      "metadata": {
        "id": "FFmUb_-or0jl",
        "colab_type": "code",
        "colab": {}
      },
      "source": [
        "noise = tf.random.normal([1, 100])\n",
        "generated_image = generator(noise, training=False)\n",
        "\n",
        "print('gen image: ', generated_image.shape)\n",
        "print('gen image[...]: ', generated_image[0, :, :, 0].shape)\n",
        "plt.imshow(generated_image[0, :, :, 0], cmap='gray')\n"
      ],
      "execution_count": null,
      "outputs": []
    },
    {
      "cell_type": "code",
      "metadata": {
        "id": "_ru0q8pyBIXb",
        "colab_type": "code",
        "colab": {}
      },
      "source": [
        "d_loss_all"
      ],
      "execution_count": null,
      "outputs": []
    },
    {
      "cell_type": "code",
      "metadata": {
        "id": "OGDmrOPEauMo",
        "colab_type": "code",
        "colab": {}
      },
      "source": [
        "foo = 0\n",
        "t1 = time.time()\n",
        "while True:\n",
        "  try:\n",
        "    ar = np.load('ChessGan/128_gray/{:06d}.npz'.format(foo))['arr_0']\n",
        "  except FileNotFoundError:\n",
        "    break\n",
        "  foo += 1\n",
        "  if foo < 2:\n",
        "    print(ar.shape)\n",
        "print('done', time.time() - t1, foo)"
      ],
      "execution_count": null,
      "outputs": []
    },
    {
      "cell_type": "code",
      "metadata": {
        "id": "7_PS8vWqfe3E",
        "colab_type": "code",
        "colab": {}
      },
      "source": [
        ""
      ],
      "execution_count": null,
      "outputs": []
    }
  ]
}